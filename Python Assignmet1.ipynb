{
 "cells": [
  {
   "cell_type": "markdown",
   "metadata": {
    "id": "9KVTVF8i8C7F"
   },
   "source": [
    "Question No 11 :- Write a Python Program to find the Factorial of a Number."
   ]
  },
  {
   "cell_type": "code",
   "execution_count": 42,
   "metadata": {
    "colab": {
     "base_uri": "https://localhost:8080/"
    },
    "id": "CHD9P1v08BzX",
    "outputId": "3d9ad9b6-49a2-4e0d-ba8a-363d0ffedc75"
   },
   "outputs": [
    {
     "name": "stdout",
     "output_type": "stream",
     "text": [
      "120\n"
     ]
    }
   ],
   "source": [
    "N = 5\n",
    "fact = 1\n",
    "while N > 0:\n",
    "  fact = fact * N\n",
    "  N = N - 1\n",
    "\n",
    "print(fact) "
   ]
  },
  {
   "cell_type": "markdown",
   "metadata": {
    "id": "Oj2uRGRQ8Vzs"
   },
   "source": [
    "Question No 12 :- Write a Python Program to find whether a number os Prime or Composite."
   ]
  },
  {
   "cell_type": "code",
   "execution_count": 13,
   "metadata": {
    "colab": {
     "base_uri": "https://localhost:8080/"
    },
    "id": "4jDelpxW8XUF",
    "outputId": "566e1d77-1fac-4ce5-9388-caecc9ce2e96"
   },
   "outputs": [
    {
     "name": "stdout",
     "output_type": "stream",
     "text": [
      "Prime\n"
     ]
    }
   ],
   "source": [
    "N = 11\n",
    "prime = True\n",
    "for i in range(2, N-1):\n",
    "  if N%i == 0:\n",
    "    prime = False\n",
    "\n",
    "if prime:\n",
    "  print(\"Prime\")\n",
    "else:\n",
    "  print(\"Composite\")"
   ]
  },
  {
   "cell_type": "markdown",
   "metadata": {
    "id": "RXTqEe2K86CS"
   },
   "source": [
    "Question No 13 :- Write a Python Program to check whether a given string is palindrome or not."
   ]
  },
  {
   "cell_type": "code",
   "execution_count": 21,
   "metadata": {
    "colab": {
     "base_uri": "https://localhost:8080/"
    },
    "id": "oTAEQl2a8dmB",
    "outputId": "dcd2cd90-6491-4e7e-a779-db6a9932ef94"
   },
   "outputs": [
    {
     "name": "stdout",
     "output_type": "stream",
     "text": [
      "Palindrome\n"
     ]
    }
   ],
   "source": [
    "str = \"ababa\"\n",
    "palindrome = True\n",
    "left = 0\n",
    "right = len(str) - 1\n",
    "\n",
    "while left < right:\n",
    "  if str[left] != str[right]:\n",
    "    palindrome = False\n",
    "  left = left + 1\n",
    "  right = right - 1\n",
    "\n",
    "if palindrome:\n",
    "  print(\"Palindrome\")\n",
    "else:\n",
    "  print(\"Not Palindrome\")"
   ]
  },
  {
   "cell_type": "markdown",
   "metadata": {
    "id": "OdlXBkhj9smt"
   },
   "source": [
    "Question No 14:- Write a Python Program to get the third side of right angled triangle from two given sides."
   ]
  },
  {
   "cell_type": "code",
   "execution_count": 24,
   "metadata": {
    "colab": {
     "base_uri": "https://localhost:8080/"
    },
    "id": "7rxgWuBP9yt2",
    "outputId": "4d48b3f9-1bb1-4273-9920-d5b4207341de"
   },
   "outputs": [
    {
     "name": "stdout",
     "output_type": "stream",
     "text": [
      "Hypotenuse 5.0\n"
     ]
    }
   ],
   "source": [
    "perpendicular = 3\n",
    "base = 4\n",
    "\n",
    "hypotenuse = (perpendicular**2 + base**2)**(0.5) ## pythogoras theorem\n",
    "\n",
    "print(\"Hypotenuse %s\" % hypotenuse)"
   ]
  },
  {
   "cell_type": "markdown",
   "metadata": {
    "id": "9EgsylkO-YeO"
   },
   "source": [
    "Question No 15:- Write a Python Program to print the frequency of each of the characters present in a given string ."
   ]
  },
  {
   "cell_type": "code",
   "execution_count": 39,
   "metadata": {
    "colab": {
     "base_uri": "https://localhost:8080/"
    },
    "id": "pIKGH16W-LtX",
    "outputId": "9f5208ff-416a-4971-de56-a6de10b7157f"
   },
   "outputs": [
    {
     "name": "stdout",
     "output_type": "stream",
     "text": [
      "a, 0\n",
      "b, 1\n",
      "c, 0\n",
      "d, 0\n",
      "e, 0\n",
      "f, 0\n",
      "g, 0\n",
      "h, 0\n",
      "i, 2\n",
      "j, 0\n",
      "k, 0\n",
      "l, 0\n",
      "m, 0\n",
      "n, 0\n",
      "o, 1\n",
      "p, 0\n",
      "q, 1\n",
      "r, 0\n",
      "s, 1\n",
      "t, 1\n",
      "u, 4\n",
      "v, 0\n",
      "w, 0\n",
      "x, 0\n",
      "y, 0\n",
      "z, 0\n"
     ]
    }
   ],
   "source": [
    "str = \"ubiquituous\" # only small alphabets allowed\n",
    "frequency = [0 for i in range(26)]\n",
    "alphabets = [chr(i) for i in range(97, 123)]\n",
    "\n",
    "for char in str:\n",
    "  frequency[ord(char)-97] = frequency[ord(char)-97] + 1\n",
    "\n",
    "for i in range(26):\n",
    "  print('%s, %s' % (alphabets[i], frequency[i]))\n"
   ]
  }
 ],
 "metadata": {
  "colab": {
   "name": "Untitled0.ipynb",
   "provenance": []
  },
  "kernelspec": {
   "display_name": "Python 3 (ipykernel)",
   "language": "python",
   "name": "python3"
  },
  "language_info": {
   "codemirror_mode": {
    "name": "ipython",
    "version": 3
   },
   "file_extension": ".py",
   "mimetype": "text/x-python",
   "name": "python",
   "nbconvert_exporter": "python",
   "pygments_lexer": "ipython3",
   "version": "3.9.7"
  }
 },
 "nbformat": 4,
 "nbformat_minor": 1
}
